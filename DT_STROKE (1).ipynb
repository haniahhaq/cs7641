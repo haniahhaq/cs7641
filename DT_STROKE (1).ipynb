{
 "cells": [
  {
   "cell_type": "code",
   "execution_count": null,
   "id": "f9f8b614",
   "metadata": {},
   "outputs": [],
   "source": [
    "import numpy as np # linear algebra\n",
    "import pandas as pd # data processing, CSV file I/O (e.g. pd.read_csv)\n",
    "import matplotlib.pyplot as plt\n",
    "import numpy as np # linear algebra\n",
    "import pandas as pd # data processing, CSV file I/O (e.g. pd.read_csv)\n",
    "import matplotlib.pyplot as plt\n",
    "import seaborn as sns\n",
    "sns.set_style('darkgrid')\n",
    "\n",
    "\n",
    "from sklearn.pipeline import Pipeline\n",
    "from sklearn.preprocessing import StandardScaler,LabelEncoder\n",
    "from sklearn.model_selection import train_test_split,cross_val_score\n",
    "\n",
    "\n",
    "from sklearn.linear_model import LinearRegression,LogisticRegression\n",
    "from sklearn.tree import DecisionTreeRegressor,DecisionTreeClassifier\n",
    "from sklearn.ensemble import RandomForestClassifier\n",
    "from sklearn.svm import SVC\n",
    "import os\n",
    "\n",
    "from sklearn.metrics import classification_report,confusion_matrix,f1_score\n",
    "import warnings\n",
    "warnings.filterwarnings('ignore')\n",
    "import numpy as np\n",
    "import pandas as pd\n",
    "import matplotlib.pyplot as plt\n",
    "import seaborn as sns\n",
    "\n",
    "from sklearn.model_selection import train_test_split\n",
    "from sklearn.linear_model import LogisticRegression\n",
    "from sklearn.dummy import DummyClassifier\n",
    "from sklearn.metrics import accuracy_score, f1_score, confusion_matrix, recall_score"
   ]
  },
  {
   "cell_type": "code",
   "execution_count": null,
   "id": "26841376",
   "metadata": {},
   "outputs": [],
   "source": [
    "data = pd.read_csv('C:\\\\Users\\\\14437\\\\Downloads\\\\full_data.csv')\n",
    "data.head()"
   ]
  },
  {
   "cell_type": "code",
   "execution_count": null,
   "id": "06fbaf03",
   "metadata": {},
   "outputs": [],
   "source": [
    "data_clean = data[data['age']>25]"
   ]
  },
  {
   "cell_type": "code",
   "execution_count": null,
   "id": "df10f37a",
   "metadata": {},
   "outputs": [],
   "source": [
    "data_clean = data_clean.replace({'gender': {'Female': 0, 'Male': 1}})\n",
    "data_clean['stroke'].value_counts().to_frame().T"
   ]
  },
  {
   "cell_type": "code",
   "execution_count": null,
   "id": "46d7d9bd",
   "metadata": {},
   "outputs": [],
   "source": [
    "\n",
    "data_clean = data_clean.replace({'ever_married': {'Yes': 1, 'No': 0}})"
   ]
  },
  {
   "cell_type": "code",
   "execution_count": null,
   "id": "0f2007af",
   "metadata": {},
   "outputs": [],
   "source": [
    "data2 = pd.get_dummies(data_clean, columns=[\"work_type\", \"Residence_type\",\"smoking_status\"], prefix=[\"work\", \"residence\",\"smoke\"])"
   ]
  },
  {
   "cell_type": "code",
   "execution_count": null,
   "id": "364fb784",
   "metadata": {},
   "outputs": [],
   "source": [
    "target = 'stroke'\n",
    "X = data2.loc[:,data2.columns!=target]\n",
    "y = data2.loc[:,data2.columns==target]"
   ]
  },
  {
   "cell_type": "code",
   "execution_count": null,
   "id": "fcde1a2a",
   "metadata": {},
   "outputs": [],
   "source": [
    "import seaborn as sns\n",
    "from sklearn.datasets import make_classification\n",
    "from imblearn.over_sampling import SMOTE\n",
    "\n",
    "oversample = SMOTE()\n",
    "X, y = oversample.fit_resample(X, y)\n",
    "\n",
    "X.shape, y.shape\n",
    "from sklearn.model_selection import train_test_split\n",
    "\n",
    "X_train, X_test, y_train, y_test = train_test_split(X,y, test_size=0.20, shuffle=True)"
   ]
  },
  {
   "cell_type": "code",
   "execution_count": null,
   "id": "4e18e4a8",
   "metadata": {},
   "outputs": [],
   "source": [
    "from sklearn.tree import DecisionTreeClassifier\n",
    "\n",
    "clf_gini = DecisionTreeClassifier()\n",
    "clf_gini.fit(X_train, y_train)"
   ]
  },
  {
   "cell_type": "code",
   "execution_count": null,
   "id": "20685e10",
   "metadata": {},
   "outputs": [],
   "source": [
    "y_pred_gini = clf_gini.predict(X_test)\n",
    "accuracy_score(y_test, y_pred_gini)"
   ]
  },
  {
   "cell_type": "code",
   "execution_count": null,
   "id": "18f376c9",
   "metadata": {},
   "outputs": [],
   "source": [
    "from sklearn.metrics import accuracy_score, f1_score\n",
    "\n",
    "print('Model accuracy score with criterion gini index: {0:0.4f}'. format(accuracy_score(y_test, y_pred_gini)))"
   ]
  },
  {
   "cell_type": "code",
   "execution_count": null,
   "id": "7d627a0d",
   "metadata": {},
   "outputs": [],
   "source": [
    "y_pred_train_gini = clf_gini.predict(X_train)\n",
    "\n",
    "y_pred_train_gini"
   ]
  },
  {
   "cell_type": "code",
   "execution_count": null,
   "id": "f47826b0",
   "metadata": {},
   "outputs": [],
   "source": [
    "print('Training-set accuracy score:{0:0.4f}'. format(accuracy_score(y_train, y_pred_train_gini)))"
   ]
  },
  {
   "cell_type": "code",
   "execution_count": null,
   "id": "677d28c9",
   "metadata": {},
   "outputs": [],
   "source": [
    "print('Training set score: {:.4f}'.format(clf_gini.score(X_train, y_train)))\n",
    "\n",
    "print('Test set score: {:.4f}'.format(clf_gini.score(X_test, y_test)))"
   ]
  },
  {
   "cell_type": "code",
   "execution_count": null,
   "id": "6993212b",
   "metadata": {},
   "outputs": [],
   "source": [
    "\n",
    "from matplotlib.pyplot import *\n",
    "plt.figure(figsize=(12,8))\n",
    "\n",
    "from sklearn import tree\n",
    "\n",
    "tree.plot_tree(clf_gini.fit(X_train, y_train)) \n"
   ]
  },
  {
   "cell_type": "code",
   "execution_count": null,
   "id": "f5939c61",
   "metadata": {},
   "outputs": [],
   "source": [
    "# CHANGING MAX_DEPTH\n",
    "score_train=[]\n",
    "score_test=[]\n",
    "\n",
    "for i in range(1,100):\n",
    "    dtree_md = DecisionTreeClassifier(criterion= \"gini\", max_depth=i)\n",
    "    dtree_md.fit(X_train,y_train)\n",
    "    \n",
    "    score_train.append(dtree_md.score(X_train,y_train)*100)\n",
    "    score_test.append(dtree_md.score(X_test,y_test)*100)\n",
    "    \n",
    "score_train_array=np.asarray(score_train)\n",
    "score_test_array=np.asarray(score_test)\n",
    "plt.figure(figsize=(20,6))\n",
    "plt.title(\"Validation Curve for Decision Tree\")\n",
    "plt.plot(range(1,100),score_train_array,color='orange', label=\"Training Accuracy\")\n",
    "plt.plot(range(1,100),score_test_array,color='green',label=\"Testing Accuracy\")\n",
    "\n",
    "plt.legend()\n",
    "plt.xlabel('max_depth')\n",
    "plt.ylabel('Accuracy Percentage')\n",
    "plt.show()"
   ]
  },
  {
   "cell_type": "code",
   "execution_count": null,
   "id": "131f1ab7",
   "metadata": {},
   "outputs": [],
   "source": [
    "path = clf_gini.cost_complexity_pruning_path(X_train, y_train)\n",
    "ccp_alphas, impurities = path.ccp_alphas, path.impurities\n",
    "print(ccp_alphas)"
   ]
  },
  {
   "cell_type": "code",
   "execution_count": null,
   "id": "94c673a8",
   "metadata": {},
   "outputs": [],
   "source": [
    "clfs = []\n",
    "for ccp_alpha in ccp_alphas:\n",
    "    clf = DecisionTreeClassifier(random_state=0, ccp_alpha=ccp_alpha)\n",
    "    clf.fit(X_train, y_train)\n",
    "    clfs.append(clf)"
   ]
  },
  {
   "cell_type": "code",
   "execution_count": null,
   "id": "70c80f5b",
   "metadata": {},
   "outputs": [],
   "source": [
    "clfs = clfs[:-1]\n",
    "ccp_alphas = ccp_alphas[:-1]\n",
    "node_counts = [clf.tree_.node_count for clf in clfs]\n",
    "depth = [clf.tree_.max_depth for clf in clfs]"
   ]
  },
  {
   "cell_type": "code",
   "execution_count": null,
   "id": "7eb4054e",
   "metadata": {},
   "outputs": [],
   "source": [
    "train_acc = []\n",
    "test_acc = []\n",
    "for c in clfs:\n",
    "    y_train_pred = c.predict(X_train)\n",
    "    y_test_pred = c.predict(X_test)\n",
    "    train_acc.append(accuracy_score(y_train,y_train_pred))\n",
    "    test_acc.append(accuracy_score(y_test,y_test_pred))\n"
   ]
  },
  {
   "cell_type": "code",
   "execution_count": null,
   "id": "a5b61334",
   "metadata": {},
   "outputs": [],
   "source": [
    "from sklearn.metrics import plot_confusion_matrix\n",
    "clf_ = tree.DecisionTreeClassifier(random_state=0,ccp_alpha=0.020)\n",
    "clf_.fit(X_train,y_train)\n",
    "y_train_pred = clf_.predict(X_train)\n",
    "y_test_pred = clf_.predict(X_test)\n",
    "accuracy_score(y_test, y_test_pred)"
   ]
  },
  {
   "cell_type": "code",
   "execution_count": null,
   "id": "6a94fd8f",
   "metadata": {},
   "outputs": [],
   "source": [
    "\n",
    "from matplotlib.pyplot import *\n",
    "plt.figure(figsize=(12,8))\n",
    "\n",
    "from sklearn import tree\n",
    "\n",
    "tree.plot_tree(clf_.fit(X_train, y_train)) \n"
   ]
  },
  {
   "cell_type": "code",
   "execution_count": null,
   "id": "1d7e4e8b",
   "metadata": {},
   "outputs": [],
   "source": [
    "print('Training set score: {:.4f}'.format(clf_.score(X_train, y_train)))\n",
    "\n",
    "print('Test set score: {:.4f}'.format(clf_.score(X_test, y_test)))"
   ]
  },
  {
   "cell_type": "code",
   "execution_count": null,
   "id": "bc81ee9e",
   "metadata": {},
   "outputs": [],
   "source": [
    "import numpy as np\n",
    "import matplotlib.pyplot as plt\n",
    "from sklearn.neighbors import KNeighborsClassifier as KMeans\n",
    "from sklearn import datasets\n",
    "from sklearn.model_selection import learning_curve\n",
    "from sklearn.model_selection import TimeSeriesSplit\n",
    "tscv = TimeSeriesSplit(n_splits=10)\n",
    "sizes, training_scores, testing_scores = learning_curve(clf_gini, X, y, cv=10, scoring='accuracy', train_sizes=np.linspace(0.01, 1.0, 50))"
   ]
  },
  {
   "cell_type": "code",
   "execution_count": null,
   "id": "e3e63def",
   "metadata": {},
   "outputs": [],
   "source": [
    "train_mean = np.mean(training_scores, axis=1)\n",
    "train_std = np.std(training_scores, axis=1)\n",
    "\n",
    "test_mean = np.mean(testing_scores, axis=1)\n",
    "test_std = np.std(testing_scores, axis=1)"
   ]
  },
  {
   "cell_type": "code",
   "execution_count": null,
   "id": "a2ad7099",
   "metadata": {},
   "outputs": [],
   "source": [
    "plt.subplots(1, figsize=(10,10))\n",
    "plt.plot(sizes, train_mean, '--', color=\"#111111\",  label=\"Training score\")\n",
    "plt.plot(sizes, test_mean, color=\"#111111\", label=\"Cross-validation score\")\n",
    "plt.fill_between(sizes, train_mean - train_std, train_mean + train_std, color=\"red\")\n",
    "plt.fill_between(sizes, test_mean - test_std, test_mean + test_std, color=\"green\")\n",
    "\n",
    "plt.title(\"Learning Curve for Decision Tree Classifier\")\n",
    "plt.xlabel(\"Testing Set Size\"), plt.ylabel(\"Accuracy  Score\"), plt.legend(loc=\"best\")\n",
    "plt.tight_layout()\n",
    "plt.show()"
   ]
  },
  {
   "cell_type": "code",
   "execution_count": null,
   "id": "b88c1270",
   "metadata": {},
   "outputs": [],
   "source": [
    "# CHANGING MAX_DEPTH\n",
    "score_train=[]\n",
    "score_test=[]\n",
    "\n",
    "for i in range(2,200):\n",
    "    dtree_md = DecisionTreeClassifier(criterion= \"gini\", max_leaf_nodes=i)\n",
    "    dtree_md.fit(X_train,y_train)\n",
    "    \n",
    "    score_train.append(dtree_md.score(X_train,y_train)*100)\n",
    "    score_test.append(dtree_md.score(X_test,y_test)*100)\n",
    "    \n",
    "score_train_array=np.asarray(score_train)\n",
    "score_test_array=np.asarray(score_test)\n",
    "plt.figure(figsize=(20,6))\n",
    "plt.title(\"Validation Curve for Decision Tree\")\n",
    "plt.plot(range(2,200),score_train_array,color='orange', label=\"Training Accuracy\")\n",
    "plt.plot(range(2,200),score_test_array,color='green',label=\"Testing Accuracy\")\n",
    "\n",
    "plt.legend()\n",
    "plt.xlabel('Max Leaf Nodes')\n",
    "plt.ylabel('Accuracy Percentage')\n",
    "plt.show()"
   ]
  },
  {
   "cell_type": "code",
   "execution_count": null,
   "id": "0fc3ce58",
   "metadata": {},
   "outputs": [],
   "source": [
    "from sklearn.model_selection import GridSearchCV\n",
    "from sklearn.tree import DecisionTreeClassifier\n",
    "#making the instance\n",
    "model= DecisionTreeClassifier(random_state=1234)\n",
    "#Hyper Parameters Set\n",
    "params = {'max_features': ['auto', 'sqrt', 'log2'],\n",
    "          'min_samples_split': [2,3,4,5,6,7,8,9,10,11,12,13,14,15], \n",
    "          'min_samples_leaf':[1,2,3,4,5,6,7,8,9,10,11],\n",
    "          \"max_depth\":[1,2,3,4,5,6,7,8,9,10,15,20,25,30,35,40],\n",
    "          'random_state':[123]}\n",
    "#Making models with hyper parameters sets\n",
    "model1 = GridSearchCV(model, param_grid=params, n_jobs=-1)\n",
    "#Learning\n",
    "model1.fit(X_train,y_train)\n",
    "#The best hyper parameters set\n",
    "print(\"Best Hyper Parameters:\",model1.best_params_)\n",
    "#Prediction\n",
    "prediction=model1.predict(X_test)\n",
    "#importing the metrics module\n",
    "from sklearn import metrics\n",
    "#evaluation(Accuracy)\n",
    "print(\"Accuracy:\",metrics.accuracy_score(prediction,y_test))\n",
    "#evaluation(Confusion Metrix)\n",
    "print(\"Confusion Metrix:\\n\",metrics.confusion_matrix(prediction,y_test))"
   ]
  },
  {
   "cell_type": "code",
   "execution_count": null,
   "id": "4c089fb0",
   "metadata": {},
   "outputs": [],
   "source": [
    "best_clf = model1.best_estimator_\n"
   ]
  },
  {
   "cell_type": "code",
   "execution_count": null,
   "id": "0623bc53",
   "metadata": {},
   "outputs": [],
   "source": [
    "import numpy as np\n",
    "import matplotlib.pyplot as plt\n",
    "from sklearn.neighbors import KNeighborsClassifier as KMeans\n",
    "from sklearn import datasets\n",
    "from sklearn.model_selection import learning_curve\n",
    "from sklearn.model_selection import TimeSeriesSplit\n",
    "tscv = TimeSeriesSplit(n_splits=10)\n",
    "sizes, training_scores, testing_scores = learning_curve(best_clf, X, y, cv=10, scoring='accuracy', train_sizes=np.linspace(0.01, 1.0, 50))"
   ]
  },
  {
   "cell_type": "code",
   "execution_count": null,
   "id": "103a23fb",
   "metadata": {},
   "outputs": [],
   "source": [
    "train_mean = np.mean(training_scores, axis=1)\n",
    "train_std = np.std(training_scores, axis=1)\n",
    "\n",
    "test_mean = np.mean(testing_scores, axis=1)\n",
    "test_std = np.std(testing_scores, axis=1)"
   ]
  },
  {
   "cell_type": "code",
   "execution_count": null,
   "id": "dc575a80",
   "metadata": {},
   "outputs": [],
   "source": [
    "plt.subplots(1, figsize=(10,10))\n",
    "plt.plot(sizes, train_mean, '--', color=\"#111111\",  label=\"Training score\")\n",
    "plt.plot(sizes, test_mean, color=\"#111111\", label=\"Cross-validation score\")\n",
    "plt.fill_between(sizes, train_mean - train_std, train_mean + train_std, color=\"red\")\n",
    "plt.fill_between(sizes, test_mean - test_std, test_mean + test_std, color=\"green\")\n",
    "\n",
    "plt.title(\"Learning Curve for Decision Tree Classifier\")\n",
    "plt.xlabel(\"Testing Set Size\"), plt.ylabel(\"Accuracy  Score\"), plt.legend(loc=\"best\")\n",
    "plt.tight_layout()\n",
    "plt.show()"
   ]
  },
  {
   "cell_type": "code",
   "execution_count": null,
   "id": "86fa5deb",
   "metadata": {},
   "outputs": [],
   "source": [
    "import matplotlib.pyplot as plt\n",
    "import numpy as np\n",
    "from sklearn.datasets import load_digits\n",
    "from sklearn.neighbors import KNeighborsClassifier\n",
    "from sklearn.model_selection import validation_curve\n",
    "\n",
    " \n",
    "# Setting the range for the parameter (from 1 to 10)\n",
    "parameters = {\n",
    "    'max_depth': [1,2,3,4,5,6,7,8,9,10,15,20,25,30,35,40,45,50,55,60,65,70,75,80,85,90,95,100], \n",
    "}\n",
    " \n",
    "# Calculate accuracy on training and test set using the\n",
    "# gamma parameter with 5-fold cross validation\n",
    "train_score, test_score = validation_curve(best_clf, X, y,\n",
    "                                       param_name = \"max_depth\",\n",
    "                                       param_range = parameters['max_depth'],\n",
    "                                        cv = 5, scoring = \"accuracy\")\n",
    " \n",
    "# Calculating mean and standard deviation of training score\n",
    "mean_train_score = np.mean(train_score, axis = 1)\n",
    "std_train_score = np.std(train_score, axis = 1)\n",
    " \n",
    "# Calculating mean and standard deviation of testing score\n",
    "mean_test_score = np.mean(test_score, axis = 1)\n",
    "std_test_score = np.std(test_score, axis = 1)"
   ]
  },
  {
   "cell_type": "code",
   "execution_count": null,
   "id": "ef9424b3",
   "metadata": {},
   "outputs": [],
   "source": [
    " \n",
    "# Plot mean accuracy scores for training and testing scores\n",
    "plt.plot(parameters['max_depth'], mean_train_score,\n",
    "     label = \"Training Score\", color = 'b')\n",
    "plt.plot(parameters['max_depth'], mean_test_score,\n",
    "   label = \"Cross Validation Score\", color = 'g')\n",
    " \n",
    "# Creating the plot\n",
    "plt.title(\"Validation Curve with Decision Tree Classifier\")\n",
    "plt.xlabel(\"Kernel Type\")\n",
    "plt.ylabel(\"Accuracy\")\n",
    "plt.tight_layout()\n",
    "plt.legend(loc = 'best')\n",
    "plt.show()"
   ]
  },
  {
   "cell_type": "code",
   "execution_count": null,
   "id": "3b87201b",
   "metadata": {},
   "outputs": [],
   "source": [
    "best_clf = DecisionTreeClassifier(criterion='gini', max_depth=20, random_state=1)\n",
    "\n",
    "best_clf.fit(X_train, y_train)\n",
    "y_test_pred = best_clf.predict(X_test)\n",
    "test_score = accuracy_score(y_test, y_test_pred)\n",
    "print('%.4f' % test_score)"
   ]
  },
  {
   "cell_type": "code",
   "execution_count": null,
   "id": "c212f242",
   "metadata": {},
   "outputs": [],
   "source": []
  },
  {
   "cell_type": "code",
   "execution_count": null,
   "id": "31f5ae33",
   "metadata": {},
   "outputs": [],
   "source": []
  },
  {
   "cell_type": "code",
   "execution_count": null,
   "id": "3a540f73",
   "metadata": {},
   "outputs": [],
   "source": []
  }
 ],
 "metadata": {
  "kernelspec": {
   "display_name": "Python 3 (ipykernel)",
   "language": "python",
   "name": "python3"
  },
  "language_info": {
   "codemirror_mode": {
    "name": "ipython",
    "version": 3
   },
   "file_extension": ".py",
   "mimetype": "text/x-python",
   "name": "python",
   "nbconvert_exporter": "python",
   "pygments_lexer": "ipython3",
   "version": "3.9.12"
  }
 },
 "nbformat": 4,
 "nbformat_minor": 5
}
