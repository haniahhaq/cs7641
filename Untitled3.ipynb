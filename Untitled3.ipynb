{
  "nbformat": 4,
  "nbformat_minor": 0,
  "metadata": {
    "colab": {
      "provenance": [],
      "authorship_tag": "ABX9TyM7yR3bPD94UIBw7lp/rHVm",
      "include_colab_link": true
    },
    "kernelspec": {
      "name": "python3",
      "display_name": "Python 3"
    },
    "language_info": {
      "name": "python"
    }
  },
  "cells": [
    {
      "cell_type": "markdown",
      "metadata": {
        "id": "view-in-github",
        "colab_type": "text"
      },
      "source": [
        "<a href=\"https://colab.research.google.com/github/haniahhaq/cs7641/blob/main/Untitled3.ipynb\" target=\"_parent\"><img src=\"https://colab.research.google.com/assets/colab-badge.svg\" alt=\"Open In Colab\"/></a>"
      ]
    },
    {
      "cell_type": "code",
      "source": [
        "import numpy as np # linear algebra\n",
        "import pandas as pd # data processing, CSV file I/O (e.g. pd.read_csv)\n",
        "import matplotlib.pyplot as plt\n",
        "import numpy as np # linear algebra\n",
        "import pandas as pd # data processing, CSV file I/O (e.g. pd.read_csv)\n",
        "import matplotlib.pyplot as plt\n",
        "import seaborn as sns\n",
        "sns.set_style('darkgrid')\n",
        "\n",
        "\n",
        "from sklearn.pipeline import Pipeline\n",
        "from sklearn.preprocessing import StandardScaler,LabelEncoder\n",
        "from sklearn.model_selection import train_test_split,cross_val_score\n",
        "\n",
        "\n",
        "from sklearn.linear_model import LinearRegression,LogisticRegression\n",
        "from sklearn.tree import DecisionTreeRegressor,DecisionTreeClassifier\n",
        "from sklearn.ensemble import RandomForestClassifier\n",
        "from sklearn.svm import SVC\n",
        "import os\n",
        "\n",
        "from sklearn.metrics import classification_report,confusion_matrix,f1_score\n",
        "import warnings\n",
        "warnings.filterwarnings('ignore')\n",
        "import numpy as np\n",
        "import pandas as pd\n",
        "import matplotlib.pyplot as plt\n",
        "import seaborn as sns\n",
        "\n",
        "from sklearn.model_selection import train_test_split\n",
        "from sklearn.linear_model import LogisticRegression\n",
        "from sklearn.dummy import DummyClassifier\n",
        "from sklearn.metrics import accuracy_score, f1_score, confusion_matrix, recall_score"
      ],
      "metadata": {
        "id": "NVxZ3h48WjIm"
      },
      "execution_count": null,
      "outputs": []
    },
    {
      "cell_type": "code",
      "source": [
        "data = pd.read_csv('full_data.csv')\n",
        "data.head()"
      ],
      "metadata": {
        "colab": {
          "base_uri": "https://localhost:8080/",
          "height": 287
        },
        "id": "Jf6R8XuJWwGI",
        "outputId": "75f270bd-a9ec-4391-f39c-72b59458814d"
      },
      "execution_count": null,
      "outputs": [
        {
          "output_type": "execute_result",
          "data": {
            "text/plain": [
              "   gender   age  hypertension  heart_disease ever_married      work_type  \\\n",
              "0    Male  67.0             0              1          Yes        Private   \n",
              "1    Male  80.0             0              1          Yes        Private   \n",
              "2  Female  49.0             0              0          Yes        Private   \n",
              "3  Female  79.0             1              0          Yes  Self-employed   \n",
              "4    Male  81.0             0              0          Yes        Private   \n",
              "\n",
              "  Residence_type  avg_glucose_level   bmi   smoking_status  stroke  \n",
              "0          Urban             228.69  36.6  formerly smoked       1  \n",
              "1          Rural             105.92  32.5     never smoked       1  \n",
              "2          Urban             171.23  34.4           smokes       1  \n",
              "3          Rural             174.12  24.0     never smoked       1  \n",
              "4          Urban             186.21  29.0  formerly smoked       1  "
            ],
            "text/html": [
              "\n",
              "  <div id=\"df-538f1182-8e01-4e52-8fa5-8fffb4d4b6b8\">\n",
              "    <div class=\"colab-df-container\">\n",
              "      <div>\n",
              "<style scoped>\n",
              "    .dataframe tbody tr th:only-of-type {\n",
              "        vertical-align: middle;\n",
              "    }\n",
              "\n",
              "    .dataframe tbody tr th {\n",
              "        vertical-align: top;\n",
              "    }\n",
              "\n",
              "    .dataframe thead th {\n",
              "        text-align: right;\n",
              "    }\n",
              "</style>\n",
              "<table border=\"1\" class=\"dataframe\">\n",
              "  <thead>\n",
              "    <tr style=\"text-align: right;\">\n",
              "      <th></th>\n",
              "      <th>gender</th>\n",
              "      <th>age</th>\n",
              "      <th>hypertension</th>\n",
              "      <th>heart_disease</th>\n",
              "      <th>ever_married</th>\n",
              "      <th>work_type</th>\n",
              "      <th>Residence_type</th>\n",
              "      <th>avg_glucose_level</th>\n",
              "      <th>bmi</th>\n",
              "      <th>smoking_status</th>\n",
              "      <th>stroke</th>\n",
              "    </tr>\n",
              "  </thead>\n",
              "  <tbody>\n",
              "    <tr>\n",
              "      <th>0</th>\n",
              "      <td>Male</td>\n",
              "      <td>67.0</td>\n",
              "      <td>0</td>\n",
              "      <td>1</td>\n",
              "      <td>Yes</td>\n",
              "      <td>Private</td>\n",
              "      <td>Urban</td>\n",
              "      <td>228.69</td>\n",
              "      <td>36.6</td>\n",
              "      <td>formerly smoked</td>\n",
              "      <td>1</td>\n",
              "    </tr>\n",
              "    <tr>\n",
              "      <th>1</th>\n",
              "      <td>Male</td>\n",
              "      <td>80.0</td>\n",
              "      <td>0</td>\n",
              "      <td>1</td>\n",
              "      <td>Yes</td>\n",
              "      <td>Private</td>\n",
              "      <td>Rural</td>\n",
              "      <td>105.92</td>\n",
              "      <td>32.5</td>\n",
              "      <td>never smoked</td>\n",
              "      <td>1</td>\n",
              "    </tr>\n",
              "    <tr>\n",
              "      <th>2</th>\n",
              "      <td>Female</td>\n",
              "      <td>49.0</td>\n",
              "      <td>0</td>\n",
              "      <td>0</td>\n",
              "      <td>Yes</td>\n",
              "      <td>Private</td>\n",
              "      <td>Urban</td>\n",
              "      <td>171.23</td>\n",
              "      <td>34.4</td>\n",
              "      <td>smokes</td>\n",
              "      <td>1</td>\n",
              "    </tr>\n",
              "    <tr>\n",
              "      <th>3</th>\n",
              "      <td>Female</td>\n",
              "      <td>79.0</td>\n",
              "      <td>1</td>\n",
              "      <td>0</td>\n",
              "      <td>Yes</td>\n",
              "      <td>Self-employed</td>\n",
              "      <td>Rural</td>\n",
              "      <td>174.12</td>\n",
              "      <td>24.0</td>\n",
              "      <td>never smoked</td>\n",
              "      <td>1</td>\n",
              "    </tr>\n",
              "    <tr>\n",
              "      <th>4</th>\n",
              "      <td>Male</td>\n",
              "      <td>81.0</td>\n",
              "      <td>0</td>\n",
              "      <td>0</td>\n",
              "      <td>Yes</td>\n",
              "      <td>Private</td>\n",
              "      <td>Urban</td>\n",
              "      <td>186.21</td>\n",
              "      <td>29.0</td>\n",
              "      <td>formerly smoked</td>\n",
              "      <td>1</td>\n",
              "    </tr>\n",
              "  </tbody>\n",
              "</table>\n",
              "</div>\n",
              "      <button class=\"colab-df-convert\" onclick=\"convertToInteractive('df-538f1182-8e01-4e52-8fa5-8fffb4d4b6b8')\"\n",
              "              title=\"Convert this dataframe to an interactive table.\"\n",
              "              style=\"display:none;\">\n",
              "        \n",
              "  <svg xmlns=\"http://www.w3.org/2000/svg\" height=\"24px\"viewBox=\"0 0 24 24\"\n",
              "       width=\"24px\">\n",
              "    <path d=\"M0 0h24v24H0V0z\" fill=\"none\"/>\n",
              "    <path d=\"M18.56 5.44l.94 2.06.94-2.06 2.06-.94-2.06-.94-.94-2.06-.94 2.06-2.06.94zm-11 1L8.5 8.5l.94-2.06 2.06-.94-2.06-.94L8.5 2.5l-.94 2.06-2.06.94zm10 10l.94 2.06.94-2.06 2.06-.94-2.06-.94-.94-2.06-.94 2.06-2.06.94z\"/><path d=\"M17.41 7.96l-1.37-1.37c-.4-.4-.92-.59-1.43-.59-.52 0-1.04.2-1.43.59L10.3 9.45l-7.72 7.72c-.78.78-.78 2.05 0 2.83L4 21.41c.39.39.9.59 1.41.59.51 0 1.02-.2 1.41-.59l7.78-7.78 2.81-2.81c.8-.78.8-2.07 0-2.86zM5.41 20L4 18.59l7.72-7.72 1.47 1.35L5.41 20z\"/>\n",
              "  </svg>\n",
              "      </button>\n",
              "      \n",
              "  <style>\n",
              "    .colab-df-container {\n",
              "      display:flex;\n",
              "      flex-wrap:wrap;\n",
              "      gap: 12px;\n",
              "    }\n",
              "\n",
              "    .colab-df-convert {\n",
              "      background-color: #E8F0FE;\n",
              "      border: none;\n",
              "      border-radius: 50%;\n",
              "      cursor: pointer;\n",
              "      display: none;\n",
              "      fill: #1967D2;\n",
              "      height: 32px;\n",
              "      padding: 0 0 0 0;\n",
              "      width: 32px;\n",
              "    }\n",
              "\n",
              "    .colab-df-convert:hover {\n",
              "      background-color: #E2EBFA;\n",
              "      box-shadow: 0px 1px 2px rgba(60, 64, 67, 0.3), 0px 1px 3px 1px rgba(60, 64, 67, 0.15);\n",
              "      fill: #174EA6;\n",
              "    }\n",
              "\n",
              "    [theme=dark] .colab-df-convert {\n",
              "      background-color: #3B4455;\n",
              "      fill: #D2E3FC;\n",
              "    }\n",
              "\n",
              "    [theme=dark] .colab-df-convert:hover {\n",
              "      background-color: #434B5C;\n",
              "      box-shadow: 0px 1px 3px 1px rgba(0, 0, 0, 0.15);\n",
              "      filter: drop-shadow(0px 1px 2px rgba(0, 0, 0, 0.3));\n",
              "      fill: #FFFFFF;\n",
              "    }\n",
              "  </style>\n",
              "\n",
              "      <script>\n",
              "        const buttonEl =\n",
              "          document.querySelector('#df-538f1182-8e01-4e52-8fa5-8fffb4d4b6b8 button.colab-df-convert');\n",
              "        buttonEl.style.display =\n",
              "          google.colab.kernel.accessAllowed ? 'block' : 'none';\n",
              "\n",
              "        async function convertToInteractive(key) {\n",
              "          const element = document.querySelector('#df-538f1182-8e01-4e52-8fa5-8fffb4d4b6b8');\n",
              "          const dataTable =\n",
              "            await google.colab.kernel.invokeFunction('convertToInteractive',\n",
              "                                                     [key], {});\n",
              "          if (!dataTable) return;\n",
              "\n",
              "          const docLinkHtml = 'Like what you see? Visit the ' +\n",
              "            '<a target=\"_blank\" href=https://colab.research.google.com/notebooks/data_table.ipynb>data table notebook</a>'\n",
              "            + ' to learn more about interactive tables.';\n",
              "          element.innerHTML = '';\n",
              "          dataTable['output_type'] = 'display_data';\n",
              "          await google.colab.output.renderOutput(dataTable, element);\n",
              "          const docLink = document.createElement('div');\n",
              "          docLink.innerHTML = docLinkHtml;\n",
              "          element.appendChild(docLink);\n",
              "        }\n",
              "      </script>\n",
              "    </div>\n",
              "  </div>\n",
              "  "
            ]
          },
          "metadata": {},
          "execution_count": 3
        }
      ]
    },
    {
      "cell_type": "code",
      "source": [
        "data_clean = data[data['age']>25]\n",
        "data_clean = data_clean.replace({'gender': {'Female': 0, 'Male': 1}})\n",
        "data_clean['stroke'].value_counts().to_frame().T\n",
        "data_clean = data_clean.replace({'ever_married': {'Yes': 1, 'No': 0}})\n",
        "data2 = pd.get_dummies(data_clean, columns=[\"work_type\", \"Residence_type\",\"smoking_status\"], prefix=[\"work\", \"residence\",\"smoke\"])\n",
        "target = 'stroke'\n",
        "X = data2.loc[:,data2.columns!=target]\n",
        "y = data2.loc[:,data2.columns==target]\n",
        "target = 'stroke'\n",
        "ax = sns.countplot(x=target,data=y)\n",
        "print(y[target].value_counts())"
      ],
      "metadata": {
        "colab": {
          "base_uri": "https://localhost:8080/",
          "height": 331
        },
        "id": "0fztCrPlW8oq",
        "outputId": "a7361674-a47f-4b74-dcd4-ef0c4c5276e4"
      },
      "execution_count": null,
      "outputs": [
        {
          "output_type": "stream",
          "name": "stdout",
          "text": [
            "0    3486\n",
            "1     246\n",
            "Name: stroke, dtype: int64\n"
          ]
        },
        {
          "output_type": "display_data",
          "data": {
            "text/plain": [
              "<Figure size 432x288 with 1 Axes>"
            ],
            "image/png": "[encoded data removed]"
          },
          "metadata": {}
        }
      ]
    },
    {
      "cell_type": "code",
      "source": [
        "import seaborn as sns\n",
        "from sklearn.datasets import make_classification\n",
        "from imblearn.over_sampling import SMOTE\n",
        "\n",
        "oversample = SMOTE()\n",
        "X, y = oversample.fit_resample(X, y)\n",
        "\n",
        "X.shape, y.shape\n",
        "from sklearn.model_selection import train_test_split\n",
        "X_train, X_test, y_train, y_test = train_test_split(X,y, test_size=0.20, shuffle=True)"
      ],
      "metadata": {
        "id": "99s1MjiOXAs2"
      },
      "execution_count": null,
      "outputs": []
    },
    {
      "cell_type": "code",
      "source": [
        "from sklearn.svm import SVC\n",
        "svc = SVC(kernel=\"poly\", degree=8)\n",
        "svc.fit(X_train, y_train)"
      ],
      "metadata": {
        "colab": {
          "base_uri": "https://localhost:8080/"
        },
        "id": "Wl02eFwFXFXo",
        "outputId": "e9fb4d14-cf04-4a69-ccf5-33fda9a09e0f"
      },
      "execution_count": null,
      "outputs": [
        {
          "output_type": "execute_result",
          "data": {
            "text/plain": [
              "SVC(degree=8, kernel='poly')"
            ]
          },
          "metadata": {},
          "execution_count": 6
        }
      ]
    },
    {
      "cell_type": "code",
      "execution_count": null,
      "metadata": {
        "id": "CPIabXehWhrH"
      },
      "outputs": [],
      "source": [
        "y_pred_svc = svc.predict(X_test)"
      ]
    },
    {
      "cell_type": "code",
      "source": [
        "accuracy_svc = accuracy_score(y_test, y_pred_svc)\n",
        "accuracy_svc"
      ],
      "metadata": {
        "colab": {
          "base_uri": "https://localhost:8080/"
        },
        "id": "ittSwshYXZ2R",
        "outputId": "12e8bd66-113b-4f47-e1cc-fa786fd70580"
      },
      "execution_count": null,
      "outputs": [
        {
          "output_type": "execute_result",
          "data": {
            "text/plain": [
              "0.7376344086021506"
            ]
          },
          "metadata": {},
          "execution_count": 9
        }
      ]
    },
    {
      "cell_type": "code",
      "source": [
        "\n",
        "import matplotlib.pyplot as plt\n",
        "import numpy as np\n",
        "from sklearn.datasets import load_digits\n",
        "from sklearn.neighbors import KNeighborsClassifier\n",
        "from sklearn.model_selection import validation_curve\n",
        "\n",
        " \n",
        "# Setting the range for the parameter (from 1 to 10)\n",
        "parameters = {\n",
        "    'C': [6,7,8,9,10,11,12, 13, 14, 15, 16, 17, 18, 19, 20, 21, 22, 25, 26, 27, 28, 29, 30, 35 , 50, 100], \n",
        "}\n",
        " \n",
        "# Calculate accuracy on training and test set using the\n",
        "# gamma parameter with 5-fold cross validation\n",
        "train_score, test_score = validation_curve(SVC(), X, y,\n",
        "                                       param_name = \"C\",\n",
        "                                       param_range = parameters['C'],\n",
        "                                        cv = 5, scoring = \"accuracy\")\n",
        " \n",
        "# Calculating mean and standard deviation of training score\n",
        "mean_train_score = np.mean(train_score, axis = 1)\n",
        "std_train_score = np.std(train_score, axis = 1)\n",
        " \n",
        "# Calculating mean and standard deviation of testing score\n",
        "mean_test_score = np.mean(test_score, axis = 1)\n",
        "std_test_score = np.std(test_score, axis = 1)"
      ],
      "metadata": {
        "id": "_KjCxN-RXhH2"
      },
      "execution_count": null,
      "outputs": []
    },
    {
      "cell_type": "code",
      "source": [
        " \n",
        "# Plot mean accuracy scores for training and testing scores\n",
        "plt.plot(parameters['C'], mean_train_score,\n",
        "label = \"Training Score\", color = 'b')\n",
        "plt.plot(parameters['C'], mean_test_score,\n",
        "label = \"Cross Validation Score\", color = 'g')\n",
        " \n",
        "# Creating the plot\n",
        "plt.title(\"Validation Curve with SVM Classifier\")\n",
        "plt.xlabel(\"C\")\n",
        "plt.ylabel(\"Accuracy\")\n",
        "plt.tight_layout()\n",
        "plt.legend(loc = 'best')\n",
        "plt.show()"
      ],
      "metadata": {
        "colab": {
          "base_uri": "https://localhost:8080/",
          "height": 297
        },
        "id": "XAbjXzQqftrh",
        "outputId": "86550e5f-9858-4a44-de55-401d36ce4641"
      },
      "execution_count": null,
      "outputs": [
        {
          "output_type": "display_data",
          "data": {
            "text/plain": [
              "<Figure size 432x288 with 1 Axes>"
            ],
            "image/png": "[encoded data removed]"
          },
          "metadata": {}
        }
      ]
    },
    {
      "cell_type": "code",
      "source": [
        "import matplotlib.pyplot as plt\n",
        "import numpy as np\n",
        "from sklearn.datasets import load_digits\n",
        "from sklearn.neighbors import KNeighborsClassifier\n",
        "from sklearn.model_selection import validation_curve\n",
        "\n",
        " \n",
        "# Setting the range for the parameter (from 1 to 10)\n",
        "parameters = {\n",
        "    'kernel': [\"linear\", \"poly\", \"rbf\", \"sigmoid\"], \n",
        "}\n",
        " \n",
        "# Calculate accuracy on training and test set using the\n",
        "# gamma parameter with 5-fold cross validation\n",
        "train_score, test_score = validation_curve(SVC(), X, y,\n",
        "                                       param_name = \"kernel\",\n",
        "                                       param_range = parameters['kernel'],\n",
        "                                        cv = 5, scoring = \"accuracy\")\n",
        " \n",
        "# Calculating mean and standard deviation of training score\n",
        "mean_train_score = np.mean(train_score, axis = 1)\n",
        "std_train_score = np.std(train_score, axis = 1)\n",
        " \n",
        "# Calculating mean and standard deviation of testing score\n",
        "mean_test_score = np.mean(test_score, axis = 1)\n",
        "std_test_score = np.std(test_score, axis = 1)"
      ],
      "metadata": {
        "id": "PtN4EOujgKiF"
      },
      "execution_count": null,
      "outputs": []
    },
    {
      "cell_type": "code",
      "source": [
        " \n",
        "# Plot mean accuracy scores for training and testing scores\n",
        "plt.plot(parameters['kernel'], mean_train_score,\n",
        "     label = \"Training Score\", color = 'b')\n",
        "plt.plot(parameters['kernel'], mean_test_score,\n",
        "   label = \"Cross Validation Score\", color = 'g')\n",
        " \n",
        "# Creating the plot\n",
        "plt.title(\"Validation Curve with SVM Classifier\")\n",
        "plt.xlabel(\"Kernel Type\")\n",
        "plt.ylabel(\"Accuracy\")\n",
        "plt.tight_layout()\n",
        "plt.legend(loc = 'best')\n",
        "plt.show()"
      ],
      "metadata": {
        "colab": {
          "base_uri": "https://localhost:8080/",
          "height": 297
        },
        "id": "UL01zuQUh-Pu",
        "outputId": "53ff68ea-1f19-4d51-dc0e-ed108f6c061a"
      },
      "execution_count": null,
      "outputs": [
        {
          "output_type": "display_data",
          "data": {
            "text/plain": [
              "<Figure size 432x288 with 1 Axes>"
            ],
            "image/png": "[encoded data removed]"
          },
          "metadata": {}
        }
      ]
    },
    {
      "cell_type": "code",
      "source": [
        "metrics = ['minkowski','euclidean','manhattan']\n",
        "# Setting the range for the parameter (from 1 to 10)\n",
        "parameter_range = ['minkowski','euclidean','manhattan']\n",
        " \n",
        "# Calculate accuracy on training and test set using the\n",
        "# gamma parameter with 5-fold cross validation\n",
        "train_score, test_score = validation_curve(KNeighborsClassifier(), X, y,\n",
        "                                       param_name = \"metric\",\n",
        "                                       param_range = parameter_range,\n",
        "                                        cv = 5, scoring = \"accuracy\")\n",
        " \n",
        "# Calculating mean and standard deviation of training score\n",
        "mean_train_score = np.mean(train_score, axis = 1)\n",
        "std_train_score = np.std(train_score, axis = 1)\n",
        " \n",
        "# Calculating mean and standard deviation of testing score\n",
        "mean_test_score = np.mean(test_score, axis = 1)\n",
        "std_test_score = np.std(test_score, axis = 1)"
      ],
      "metadata": {
        "id": "N5izwc_Y0wCy"
      },
      "execution_count": null,
      "outputs": []
    },
    {
      "cell_type": "code",
      "source": [
        "# Plot mean accuracy scores for training and testing scores\n",
        "plt.plot(parameter_range, mean_train_score,\n",
        "     label = \"Training Score\", color = 'b')\n",
        "plt.plot(parameter_range, mean_test_score,\n",
        "  label = \"Cross Validation Score\", color = 'g')\n",
        " \n",
        "# Creating the plot\n",
        "plt.title(\"Validation Curve with KNN Classifier\")\n",
        "plt.xlabel(\"Metrics\")\n",
        "plt.ylabel(\"Accuracy\")\n",
        "plt.tight_layout()\n",
        "plt.legend(loc = 'best')\n",
        "plt.show()"
      ],
      "metadata": {
        "id": "9XoveKhR0_Sp",
        "outputId": "b8848015-bcbb-4d82-a6bf-9849b3e5fcbf",
        "colab": {
          "base_uri": "https://localhost:8080/",
          "height": 297
        }
      },
      "execution_count": null,
      "outputs": [
        {
          "output_type": "display_data",
          "data": {
            "text/plain": [
              "<Figure size 432x288 with 1 Axes>"
            ],
            "image/png": "[encoded data removed]"
          },
          "metadata": {}
        }
      ]
    }
  ]
}